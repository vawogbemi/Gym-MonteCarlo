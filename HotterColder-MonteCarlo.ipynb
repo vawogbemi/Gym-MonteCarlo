{
 "cells": [
  {
   "cell_type": "code",
   "execution_count": 4,
   "metadata": {},
   "outputs": [],
   "source": [
    "import gym\n",
    "import numpy as np\n",
    "from collections import defaultdict"
   ]
  },
  {
   "cell_type": "code",
   "execution_count": 5,
   "metadata": {},
   "outputs": [],
   "source": [
    "env = gym.make('HotterColder-v0')"
   ]
  },
  {
   "cell_type": "code",
   "execution_count": 29,
   "metadata": {},
   "outputs": [
    {
     "name": "stdout",
     "output_type": "stream",
     "text": [
      "action type: Box(1,) \n",
      "action sample: [-573.42847] \n",
      "observation type: Discrete(4) \n",
      "observation sample: 3\n"
     ]
    }
   ],
   "source": [
    "print('action type:', env.action_space, '\\naction sample:', env.action_space.sample(), '\\nobservation type:', env.observation_space, '\\nobservation sample:', env.observation_space.sample())"
   ]
  },
  {
   "cell_type": "code",
   "execution_count": 33,
   "metadata": {},
   "outputs": [
    {
     "name": "stdout",
     "output_type": "stream",
     "text": [
      "guess: [-225.59038] \n",
      "observation: 1 \n",
      "reward: 0.3908458 \n",
      "done: False \n",
      "done: {'number': 838.2533603017662, 'guesses': 1}\n"
     ]
    }
   ],
   "source": [
    "env.reset()\n",
    "action = env.action_space.sample()\n",
    "obs, reward, done, info = env.step(action)\n",
    "print('guess:',action,'\\nobservation:',obs, '\\nreward:', reward, '\\ndone:', done, '\\ndone:', info)"
   ]
  },
  {
   "cell_type": "code",
   "execution_count": null,
   "metadata": {},
   "outputs": [],
   "source": [
    "def generate_episode():\n",
    "    \n",
    "def get_prob():\n",
    "\n",
    "def update_Q():\n",
    "    "
   ]
  },
  {
   "cell_type": "code",
   "execution_count": null,
   "metadata": {},
   "outputs": [],
   "source": [
    "def HCMC(env, num_episodes, alpha, gamma, epsilon_start, epsilon_decay, epsilon_min):\n",
    "    Q = defaultdict(lambda: np.zeros(3))\n",
    "    epsilon = epsilon_start\n",
    "    for i_episode in range(1, num_episode + 1):\n",
    "        if i_episode % 10 == 0:\n",
    "            print()\n",
    "        epsilon = max(epsilon*epsilon_decay, epsilon_min)\n",
    "        episode = generate_episode()\n",
    "        Q = update_Q()"
   ]
  }
 ],
 "metadata": {
  "kernelspec": {
   "display_name": "Python 3",
   "language": "python",
   "name": "python3"
  },
  "language_info": {
   "codemirror_mode": {
    "name": "ipython",
    "version": 3
   },
   "file_extension": ".py",
   "mimetype": "text/x-python",
   "name": "python",
   "nbconvert_exporter": "python",
   "pygments_lexer": "ipython3",
   "version": "3.8.2"
  }
 },
 "nbformat": 4,
 "nbformat_minor": 4
}
